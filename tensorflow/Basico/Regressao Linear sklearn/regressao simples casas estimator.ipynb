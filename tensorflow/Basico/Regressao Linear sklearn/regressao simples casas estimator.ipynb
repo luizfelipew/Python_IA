{
 "cells": [
  {
   "cell_type": "code",
   "execution_count": 1,
   "metadata": {},
   "outputs": [
    {
     "data": {
      "text/html": [
       "<div>\n",
       "<style scoped>\n",
       "    .dataframe tbody tr th:only-of-type {\n",
       "        vertical-align: middle;\n",
       "    }\n",
       "\n",
       "    .dataframe tbody tr th {\n",
       "        vertical-align: top;\n",
       "    }\n",
       "\n",
       "    .dataframe thead th {\n",
       "        text-align: right;\n",
       "    }\n",
       "</style>\n",
       "<table border=\"1\" class=\"dataframe\">\n",
       "  <thead>\n",
       "    <tr style=\"text-align: right;\">\n",
       "      <th></th>\n",
       "      <th>id</th>\n",
       "      <th>date</th>\n",
       "      <th>price</th>\n",
       "      <th>bedrooms</th>\n",
       "      <th>bathrooms</th>\n",
       "      <th>sqft_living</th>\n",
       "      <th>sqft_lot</th>\n",
       "      <th>floors</th>\n",
       "      <th>waterfront</th>\n",
       "      <th>view</th>\n",
       "      <th>...</th>\n",
       "      <th>grade</th>\n",
       "      <th>sqft_above</th>\n",
       "      <th>sqft_basement</th>\n",
       "      <th>yr_built</th>\n",
       "      <th>yr_renovated</th>\n",
       "      <th>zipcode</th>\n",
       "      <th>lat</th>\n",
       "      <th>long</th>\n",
       "      <th>sqft_living15</th>\n",
       "      <th>sqft_lot15</th>\n",
       "    </tr>\n",
       "  </thead>\n",
       "  <tbody>\n",
       "    <tr>\n",
       "      <th>0</th>\n",
       "      <td>7129300520</td>\n",
       "      <td>20141013T000000</td>\n",
       "      <td>221900.0</td>\n",
       "      <td>3</td>\n",
       "      <td>1.00</td>\n",
       "      <td>1180</td>\n",
       "      <td>5650</td>\n",
       "      <td>1.0</td>\n",
       "      <td>0</td>\n",
       "      <td>0</td>\n",
       "      <td>...</td>\n",
       "      <td>7</td>\n",
       "      <td>1180</td>\n",
       "      <td>0</td>\n",
       "      <td>1955</td>\n",
       "      <td>0</td>\n",
       "      <td>98178</td>\n",
       "      <td>47.5112</td>\n",
       "      <td>-122.257</td>\n",
       "      <td>1340</td>\n",
       "      <td>5650</td>\n",
       "    </tr>\n",
       "    <tr>\n",
       "      <th>1</th>\n",
       "      <td>6414100192</td>\n",
       "      <td>20141209T000000</td>\n",
       "      <td>538000.0</td>\n",
       "      <td>3</td>\n",
       "      <td>2.25</td>\n",
       "      <td>2570</td>\n",
       "      <td>7242</td>\n",
       "      <td>2.0</td>\n",
       "      <td>0</td>\n",
       "      <td>0</td>\n",
       "      <td>...</td>\n",
       "      <td>7</td>\n",
       "      <td>2170</td>\n",
       "      <td>400</td>\n",
       "      <td>1951</td>\n",
       "      <td>1991</td>\n",
       "      <td>98125</td>\n",
       "      <td>47.7210</td>\n",
       "      <td>-122.319</td>\n",
       "      <td>1690</td>\n",
       "      <td>7639</td>\n",
       "    </tr>\n",
       "    <tr>\n",
       "      <th>2</th>\n",
       "      <td>5631500400</td>\n",
       "      <td>20150225T000000</td>\n",
       "      <td>180000.0</td>\n",
       "      <td>2</td>\n",
       "      <td>1.00</td>\n",
       "      <td>770</td>\n",
       "      <td>10000</td>\n",
       "      <td>1.0</td>\n",
       "      <td>0</td>\n",
       "      <td>0</td>\n",
       "      <td>...</td>\n",
       "      <td>6</td>\n",
       "      <td>770</td>\n",
       "      <td>0</td>\n",
       "      <td>1933</td>\n",
       "      <td>0</td>\n",
       "      <td>98028</td>\n",
       "      <td>47.7379</td>\n",
       "      <td>-122.233</td>\n",
       "      <td>2720</td>\n",
       "      <td>8062</td>\n",
       "    </tr>\n",
       "    <tr>\n",
       "      <th>3</th>\n",
       "      <td>2487200875</td>\n",
       "      <td>20141209T000000</td>\n",
       "      <td>604000.0</td>\n",
       "      <td>4</td>\n",
       "      <td>3.00</td>\n",
       "      <td>1960</td>\n",
       "      <td>5000</td>\n",
       "      <td>1.0</td>\n",
       "      <td>0</td>\n",
       "      <td>0</td>\n",
       "      <td>...</td>\n",
       "      <td>7</td>\n",
       "      <td>1050</td>\n",
       "      <td>910</td>\n",
       "      <td>1965</td>\n",
       "      <td>0</td>\n",
       "      <td>98136</td>\n",
       "      <td>47.5208</td>\n",
       "      <td>-122.393</td>\n",
       "      <td>1360</td>\n",
       "      <td>5000</td>\n",
       "    </tr>\n",
       "    <tr>\n",
       "      <th>4</th>\n",
       "      <td>1954400510</td>\n",
       "      <td>20150218T000000</td>\n",
       "      <td>510000.0</td>\n",
       "      <td>3</td>\n",
       "      <td>2.00</td>\n",
       "      <td>1680</td>\n",
       "      <td>8080</td>\n",
       "      <td>1.0</td>\n",
       "      <td>0</td>\n",
       "      <td>0</td>\n",
       "      <td>...</td>\n",
       "      <td>8</td>\n",
       "      <td>1680</td>\n",
       "      <td>0</td>\n",
       "      <td>1987</td>\n",
       "      <td>0</td>\n",
       "      <td>98074</td>\n",
       "      <td>47.6168</td>\n",
       "      <td>-122.045</td>\n",
       "      <td>1800</td>\n",
       "      <td>7503</td>\n",
       "    </tr>\n",
       "  </tbody>\n",
       "</table>\n",
       "<p>5 rows × 21 columns</p>\n",
       "</div>"
      ],
      "text/plain": [
       "           id             date     price  bedrooms  bathrooms  sqft_living  \\\n",
       "0  7129300520  20141013T000000  221900.0         3       1.00         1180   \n",
       "1  6414100192  20141209T000000  538000.0         3       2.25         2570   \n",
       "2  5631500400  20150225T000000  180000.0         2       1.00          770   \n",
       "3  2487200875  20141209T000000  604000.0         4       3.00         1960   \n",
       "4  1954400510  20150218T000000  510000.0         3       2.00         1680   \n",
       "\n",
       "   sqft_lot  floors  waterfront  view  ...  grade  sqft_above  sqft_basement  \\\n",
       "0      5650     1.0           0     0  ...      7        1180              0   \n",
       "1      7242     2.0           0     0  ...      7        2170            400   \n",
       "2     10000     1.0           0     0  ...      6         770              0   \n",
       "3      5000     1.0           0     0  ...      7        1050            910   \n",
       "4      8080     1.0           0     0  ...      8        1680              0   \n",
       "\n",
       "   yr_built  yr_renovated  zipcode      lat     long  sqft_living15  \\\n",
       "0      1955             0    98178  47.5112 -122.257           1340   \n",
       "1      1951          1991    98125  47.7210 -122.319           1690   \n",
       "2      1933             0    98028  47.7379 -122.233           2720   \n",
       "3      1965             0    98136  47.5208 -122.393           1360   \n",
       "4      1987             0    98074  47.6168 -122.045           1800   \n",
       "\n",
       "   sqft_lot15  \n",
       "0        5650  \n",
       "1        7639  \n",
       "2        8062  \n",
       "3        5000  \n",
       "4        7503  \n",
       "\n",
       "[5 rows x 21 columns]"
      ]
     },
     "execution_count": 1,
     "metadata": {},
     "output_type": "execute_result"
    }
   ],
   "source": [
    "import pandas as pd\n",
    "base = pd.read_csv('house-prices.csv')\n",
    "base.head()"
   ]
  },
  {
   "cell_type": "code",
   "execution_count": 2,
   "metadata": {},
   "outputs": [
    {
     "data": {
      "text/plain": [
       "(21613, 21)"
      ]
     },
     "execution_count": 2,
     "metadata": {},
     "output_type": "execute_result"
    }
   ],
   "source": [
    "base.shape"
   ]
  },
  {
   "cell_type": "code",
   "execution_count": 3,
   "metadata": {},
   "outputs": [],
   "source": [
    "x = base.iloc[:, 5:6].values\n",
    "y = base.iloc[:, 2:3].values"
   ]
  },
  {
   "cell_type": "code",
   "execution_count": 4,
   "metadata": {},
   "outputs": [
    {
     "data": {
      "text/plain": [
       "array([[1180],\n",
       "       [2570],\n",
       "       [ 770],\n",
       "       ...,\n",
       "       [1020],\n",
       "       [1600],\n",
       "       [1020]])"
      ]
     },
     "execution_count": 4,
     "metadata": {},
     "output_type": "execute_result"
    }
   ],
   "source": [
    "x"
   ]
  },
  {
   "cell_type": "code",
   "execution_count": 5,
   "metadata": {},
   "outputs": [
    {
     "data": {
      "text/plain": [
       "array([[221900.],\n",
       "       [538000.],\n",
       "       [180000.],\n",
       "       ...,\n",
       "       [402101.],\n",
       "       [400000.],\n",
       "       [325000.]])"
      ]
     },
     "execution_count": 5,
     "metadata": {},
     "output_type": "execute_result"
    }
   ],
   "source": [
    "y"
   ]
  },
  {
   "cell_type": "code",
   "execution_count": 6,
   "metadata": {},
   "outputs": [
    {
     "name": "stderr",
     "output_type": "stream",
     "text": [
      "/anaconda3/lib/python3.7/site-packages/sklearn/utils/validation.py:595: DataConversionWarning: Data with input dtype int64 was converted to float64 by StandardScaler.\n",
      "  warnings.warn(msg, DataConversionWarning)\n",
      "/anaconda3/lib/python3.7/site-packages/sklearn/utils/validation.py:595: DataConversionWarning: Data with input dtype int64 was converted to float64 by StandardScaler.\n",
      "  warnings.warn(msg, DataConversionWarning)\n"
     ]
    }
   ],
   "source": [
    "from sklearn.preprocessing import StandardScaler\n",
    "scaler_x = StandardScaler()\n",
    "x = scaler_x.fit_transform(x)\n",
    "scaler_y = StandardScaler()\n",
    "y = scaler_y.fit_transform(y)"
   ]
  },
  {
   "cell_type": "code",
   "execution_count": 7,
   "metadata": {},
   "outputs": [
    {
     "data": {
      "text/plain": [
       "array([[-0.97983502],\n",
       "       [ 0.53363434],\n",
       "       [-1.42625404],\n",
       "       ...,\n",
       "       [-1.15404732],\n",
       "       [-0.52252773],\n",
       "       [-1.15404732]])"
      ]
     },
     "execution_count": 7,
     "metadata": {},
     "output_type": "execute_result"
    }
   ],
   "source": [
    "x"
   ]
  },
  {
   "cell_type": "code",
   "execution_count": 8,
   "metadata": {},
   "outputs": [
    {
     "data": {
      "text/plain": [
       "array([[-0.86671733],\n",
       "       [-0.00568792],\n",
       "       [-0.98084935],\n",
       "       ...,\n",
       "       [-0.37586519],\n",
       "       [-0.38158814],\n",
       "       [-0.58588173]])"
      ]
     },
     "execution_count": 8,
     "metadata": {},
     "output_type": "execute_result"
    }
   ],
   "source": [
    "y"
   ]
  },
  {
   "cell_type": "code",
   "execution_count": 9,
   "metadata": {},
   "outputs": [],
   "source": [
    "import tensorflow as tf"
   ]
  },
  {
   "cell_type": "code",
   "execution_count": 10,
   "metadata": {},
   "outputs": [],
   "source": [
    "colunas = [tf.feature_column.numeric_column('x', shape = [1])]"
   ]
  },
  {
   "cell_type": "code",
   "execution_count": 11,
   "metadata": {},
   "outputs": [
    {
     "data": {
      "text/plain": [
       "[NumericColumn(key='x', shape=(1,), default_value=None, dtype=tf.float32, normalizer_fn=None)]"
      ]
     },
     "execution_count": 11,
     "metadata": {},
     "output_type": "execute_result"
    }
   ],
   "source": [
    "colunas"
   ]
  },
  {
   "cell_type": "code",
   "execution_count": 12,
   "metadata": {},
   "outputs": [
    {
     "name": "stdout",
     "output_type": "stream",
     "text": [
      "INFO:tensorflow:Using default config.\n",
      "WARNING:tensorflow:Using temporary folder as model directory: /var/folders/kv/py6frwmj5kx29vvvw4m51td40000gn/T/tmpt6i_3tps\n",
      "INFO:tensorflow:Using config: {'_model_dir': '/var/folders/kv/py6frwmj5kx29vvvw4m51td40000gn/T/tmpt6i_3tps', '_tf_random_seed': None, '_save_summary_steps': 100, '_save_checkpoints_steps': None, '_save_checkpoints_secs': 600, '_session_config': allow_soft_placement: true\n",
      "graph_options {\n",
      "  rewrite_options {\n",
      "    meta_optimizer_iterations: ONE\n",
      "  }\n",
      "}\n",
      ", '_keep_checkpoint_max': 5, '_keep_checkpoint_every_n_hours': 10000, '_log_step_count_steps': 100, '_train_distribute': None, '_device_fn': None, '_protocol': None, '_eval_distribute': None, '_experimental_distribute': None, '_service': None, '_cluster_spec': <tensorflow.python.training.server_lib.ClusterSpec object at 0x1a2a7144a8>, '_task_type': 'worker', '_task_id': 0, '_global_id_in_cluster': 0, '_master': '', '_evaluation_master': '', '_is_chief': True, '_num_ps_replicas': 0, '_num_worker_replicas': 1}\n"
     ]
    }
   ],
   "source": [
    "regressor = tf.estimator.LinearRegressor(feature_columns=colunas)"
   ]
  },
  {
   "cell_type": "code",
   "execution_count": 13,
   "metadata": {},
   "outputs": [],
   "source": [
    "from sklearn.model_selection import train_test_split\n",
    "x_treinamento, x_test, y_treinamento, y_test = train_test_split(x, y, test_size = 0.3)"
   ]
  },
  {
   "cell_type": "code",
   "execution_count": 14,
   "metadata": {},
   "outputs": [
    {
     "data": {
      "text/plain": [
       "(15129, 1)"
      ]
     },
     "execution_count": 14,
     "metadata": {},
     "output_type": "execute_result"
    }
   ],
   "source": [
    "x_treinamento.shape"
   ]
  },
  {
   "cell_type": "code",
   "execution_count": 15,
   "metadata": {},
   "outputs": [
    {
     "data": {
      "text/plain": [
       "(15129, 1)"
      ]
     },
     "execution_count": 15,
     "metadata": {},
     "output_type": "execute_result"
    }
   ],
   "source": [
    "y_treinamento.shape"
   ]
  },
  {
   "cell_type": "code",
   "execution_count": 16,
   "metadata": {},
   "outputs": [
    {
     "data": {
      "text/plain": [
       "(6484, 1)"
      ]
     },
     "execution_count": 16,
     "metadata": {},
     "output_type": "execute_result"
    }
   ],
   "source": [
    "x_test.shape"
   ]
  },
  {
   "cell_type": "code",
   "execution_count": 17,
   "metadata": {},
   "outputs": [
    {
     "data": {
      "text/plain": [
       "(6484, 1)"
      ]
     },
     "execution_count": 17,
     "metadata": {},
     "output_type": "execute_result"
    }
   ],
   "source": [
    "y_test.shape"
   ]
  },
  {
   "cell_type": "code",
   "execution_count": 19,
   "metadata": {},
   "outputs": [],
   "source": [
    "funcao_treinamento = tf.estimator.inputs.numpy_input_fn({'x': x_treinamento}, y_treinamento , batch_size = 32, num_epochs = None, shuffle = True)"
   ]
  },
  {
   "cell_type": "code",
   "execution_count": 21,
   "metadata": {},
   "outputs": [],
   "source": [
    "funcao_teste = tf.estimator.inputs.numpy_input_fn({'x': x_test}, y_test, batch_size = 32, \n",
    "                                                  num_epochs = 1000, shuffle = False)"
   ]
  },
  {
   "cell_type": "code",
   "execution_count": 22,
   "metadata": {},
   "outputs": [
    {
     "name": "stdout",
     "output_type": "stream",
     "text": [
      "WARNING:tensorflow:From /Users/LuizFelipe/.local/lib/python3.7/site-packages/tensorflow/python/framework/op_def_library.py:263: colocate_with (from tensorflow.python.framework.ops) is deprecated and will be removed in a future version.\n",
      "Instructions for updating:\n",
      "Colocations handled automatically by placer.\n",
      "WARNING:tensorflow:From /Users/LuizFelipe/.local/lib/python3.7/site-packages/tensorflow_estimator/python/estimator/inputs/queues/feeding_queue_runner.py:62: QueueRunner.__init__ (from tensorflow.python.training.queue_runner_impl) is deprecated and will be removed in a future version.\n",
      "Instructions for updating:\n",
      "To construct input pipelines, use the `tf.data` module.\n",
      "WARNING:tensorflow:From /Users/LuizFelipe/.local/lib/python3.7/site-packages/tensorflow_estimator/python/estimator/inputs/queues/feeding_functions.py:500: add_queue_runner (from tensorflow.python.training.queue_runner_impl) is deprecated and will be removed in a future version.\n",
      "Instructions for updating:\n",
      "To construct input pipelines, use the `tf.data` module.\n",
      "INFO:tensorflow:Calling model_fn.\n",
      "WARNING:tensorflow:From /Users/LuizFelipe/.local/lib/python3.7/site-packages/tensorflow/python/feature_column/feature_column_v2.py:2703: to_float (from tensorflow.python.ops.math_ops) is deprecated and will be removed in a future version.\n",
      "Instructions for updating:\n",
      "Use tf.cast instead.\n",
      "INFO:tensorflow:Done calling model_fn.\n",
      "INFO:tensorflow:Create CheckpointSaverHook.\n",
      "INFO:tensorflow:Graph was finalized.\n",
      "INFO:tensorflow:Running local_init_op.\n",
      "INFO:tensorflow:Done running local_init_op.\n",
      "WARNING:tensorflow:From /Users/LuizFelipe/.local/lib/python3.7/site-packages/tensorflow/python/training/monitored_session.py:809: start_queue_runners (from tensorflow.python.training.queue_runner_impl) is deprecated and will be removed in a future version.\n",
      "Instructions for updating:\n",
      "To construct input pipelines, use the `tf.data` module.\n",
      "INFO:tensorflow:Saving checkpoints for 0 into /var/folders/kv/py6frwmj5kx29vvvw4m51td40000gn/T/tmpt6i_3tps/model.ckpt.\n",
      "INFO:tensorflow:loss = 19.993568, step = 1\n",
      "INFO:tensorflow:global_step/sec: 489.251\n",
      "INFO:tensorflow:loss = 23.35199, step = 101 (0.206 sec)\n",
      "INFO:tensorflow:global_step/sec: 536.516\n",
      "INFO:tensorflow:loss = 7.160907, step = 201 (0.185 sec)\n",
      "INFO:tensorflow:global_step/sec: 590.037\n",
      "INFO:tensorflow:loss = 10.453598, step = 301 (0.171 sec)\n",
      "INFO:tensorflow:global_step/sec: 743.157\n",
      "INFO:tensorflow:loss = 18.637302, step = 401 (0.133 sec)\n",
      "INFO:tensorflow:global_step/sec: 751.744\n",
      "INFO:tensorflow:loss = 5.0850296, step = 501 (0.139 sec)\n",
      "INFO:tensorflow:global_step/sec: 251.567\n",
      "INFO:tensorflow:loss = 39.43871, step = 601 (0.392 sec)\n",
      "INFO:tensorflow:global_step/sec: 350.848\n",
      "INFO:tensorflow:loss = 16.863163, step = 701 (0.285 sec)\n",
      "INFO:tensorflow:global_step/sec: 324.88\n",
      "INFO:tensorflow:loss = 7.28358, step = 801 (0.314 sec)\n",
      "INFO:tensorflow:global_step/sec: 443.486\n",
      "INFO:tensorflow:loss = 5.423723, step = 901 (0.219 sec)\n",
      "INFO:tensorflow:global_step/sec: 494.447\n",
      "INFO:tensorflow:loss = 7.5257874, step = 1001 (0.204 sec)\n",
      "INFO:tensorflow:global_step/sec: 522.849\n",
      "INFO:tensorflow:loss = 13.077896, step = 1101 (0.191 sec)\n",
      "INFO:tensorflow:global_step/sec: 534.128\n",
      "INFO:tensorflow:loss = 30.384285, step = 1201 (0.187 sec)\n",
      "INFO:tensorflow:global_step/sec: 852.101\n",
      "INFO:tensorflow:loss = 47.261616, step = 1301 (0.118 sec)\n",
      "INFO:tensorflow:global_step/sec: 709.653\n",
      "INFO:tensorflow:loss = 12.616999, step = 1401 (0.140 sec)\n",
      "INFO:tensorflow:global_step/sec: 692.707\n",
      "INFO:tensorflow:loss = 11.759898, step = 1501 (0.145 sec)\n",
      "INFO:tensorflow:global_step/sec: 714.7\n",
      "INFO:tensorflow:loss = 9.371082, step = 1601 (0.140 sec)\n",
      "INFO:tensorflow:global_step/sec: 841.425\n",
      "INFO:tensorflow:loss = 20.236252, step = 1701 (0.119 sec)\n",
      "INFO:tensorflow:global_step/sec: 865.126\n",
      "INFO:tensorflow:loss = 35.53029, step = 1801 (0.115 sec)\n",
      "INFO:tensorflow:global_step/sec: 443.28\n",
      "INFO:tensorflow:loss = 30.195122, step = 1901 (0.226 sec)\n",
      "INFO:tensorflow:global_step/sec: 655.363\n",
      "INFO:tensorflow:loss = 9.082168, step = 2001 (0.153 sec)\n",
      "INFO:tensorflow:global_step/sec: 783.872\n",
      "INFO:tensorflow:loss = 4.3163257, step = 2101 (0.128 sec)\n",
      "INFO:tensorflow:global_step/sec: 610.136\n",
      "INFO:tensorflow:loss = 18.568762, step = 2201 (0.163 sec)\n",
      "INFO:tensorflow:global_step/sec: 669.365\n",
      "INFO:tensorflow:loss = 8.613368, step = 2301 (0.152 sec)\n",
      "INFO:tensorflow:global_step/sec: 500.902\n",
      "INFO:tensorflow:loss = 7.2458787, step = 2401 (0.198 sec)\n",
      "INFO:tensorflow:global_step/sec: 729.794\n",
      "INFO:tensorflow:loss = 11.274657, step = 2501 (0.136 sec)\n",
      "INFO:tensorflow:global_step/sec: 974.943\n",
      "INFO:tensorflow:loss = 13.96755, step = 2601 (0.103 sec)\n",
      "INFO:tensorflow:global_step/sec: 803.716\n",
      "INFO:tensorflow:loss = 14.463667, step = 2701 (0.125 sec)\n",
      "INFO:tensorflow:global_step/sec: 799.354\n",
      "INFO:tensorflow:loss = 7.424039, step = 2801 (0.125 sec)\n",
      "INFO:tensorflow:global_step/sec: 720.707\n",
      "INFO:tensorflow:loss = 27.885658, step = 2901 (0.138 sec)\n",
      "INFO:tensorflow:global_step/sec: 887.933\n",
      "INFO:tensorflow:loss = 83.043396, step = 3001 (0.113 sec)\n",
      "INFO:tensorflow:global_step/sec: 847.651\n",
      "INFO:tensorflow:loss = 11.670725, step = 3101 (0.119 sec)\n",
      "INFO:tensorflow:global_step/sec: 355.511\n",
      "INFO:tensorflow:loss = 8.799278, step = 3201 (0.281 sec)\n",
      "INFO:tensorflow:global_step/sec: 472.253\n",
      "INFO:tensorflow:loss = 9.043129, step = 3301 (0.211 sec)\n",
      "INFO:tensorflow:global_step/sec: 564.937\n",
      "INFO:tensorflow:loss = 16.344154, step = 3401 (0.185 sec)\n",
      "INFO:tensorflow:global_step/sec: 512.29\n",
      "INFO:tensorflow:loss = 9.157042, step = 3501 (0.188 sec)\n",
      "INFO:tensorflow:global_step/sec: 828.396\n",
      "INFO:tensorflow:loss = 13.73322, step = 3601 (0.120 sec)\n",
      "INFO:tensorflow:global_step/sec: 570.831\n",
      "INFO:tensorflow:loss = 8.880231, step = 3701 (0.176 sec)\n",
      "INFO:tensorflow:global_step/sec: 702.202\n",
      "INFO:tensorflow:loss = 15.458618, step = 3801 (0.141 sec)\n",
      "INFO:tensorflow:global_step/sec: 459.536\n",
      "INFO:tensorflow:loss = 58.23273, step = 3901 (0.227 sec)\n",
      "INFO:tensorflow:global_step/sec: 361.298\n",
      "INFO:tensorflow:loss = 8.384797, step = 4001 (0.268 sec)\n",
      "INFO:tensorflow:global_step/sec: 351.803\n",
      "INFO:tensorflow:loss = 8.604473, step = 4101 (0.285 sec)\n",
      "INFO:tensorflow:global_step/sec: 427.139\n",
      "INFO:tensorflow:loss = 13.099808, step = 4201 (0.233 sec)\n",
      "INFO:tensorflow:global_step/sec: 440.68\n",
      "INFO:tensorflow:loss = 9.234044, step = 4301 (0.227 sec)\n",
      "INFO:tensorflow:global_step/sec: 846.418\n",
      "INFO:tensorflow:loss = 18.777039, step = 4401 (0.118 sec)\n",
      "INFO:tensorflow:global_step/sec: 778.573\n",
      "INFO:tensorflow:loss = 15.03075, step = 4501 (0.129 sec)\n",
      "INFO:tensorflow:global_step/sec: 683.275\n",
      "INFO:tensorflow:loss = 7.8321753, step = 4601 (0.146 sec)\n",
      "INFO:tensorflow:global_step/sec: 654.113\n",
      "INFO:tensorflow:loss = 10.974239, step = 4701 (0.153 sec)\n",
      "INFO:tensorflow:global_step/sec: 575.361\n",
      "INFO:tensorflow:loss = 14.6591835, step = 4801 (0.174 sec)\n",
      "INFO:tensorflow:global_step/sec: 467.023\n",
      "INFO:tensorflow:loss = 7.199856, step = 4901 (0.218 sec)\n",
      "INFO:tensorflow:global_step/sec: 616.549\n",
      "INFO:tensorflow:loss = 13.756953, step = 5001 (0.159 sec)\n",
      "INFO:tensorflow:global_step/sec: 711.062\n",
      "INFO:tensorflow:loss = 10.279444, step = 5101 (0.141 sec)\n",
      "INFO:tensorflow:global_step/sec: 528.695\n",
      "INFO:tensorflow:loss = 24.602236, step = 5201 (0.189 sec)\n",
      "INFO:tensorflow:global_step/sec: 272.904\n",
      "INFO:tensorflow:loss = 15.678448, step = 5301 (0.371 sec)\n",
      "INFO:tensorflow:global_step/sec: 851.767\n",
      "INFO:tensorflow:loss = 11.635339, step = 5401 (0.114 sec)\n",
      "INFO:tensorflow:global_step/sec: 474.145\n",
      "INFO:tensorflow:loss = 12.035263, step = 5501 (0.210 sec)\n",
      "INFO:tensorflow:global_step/sec: 584.731\n",
      "INFO:tensorflow:loss = 28.963139, step = 5601 (0.176 sec)\n",
      "INFO:tensorflow:global_step/sec: 601.142\n",
      "INFO:tensorflow:loss = 13.43661, step = 5701 (0.160 sec)\n",
      "INFO:tensorflow:global_step/sec: 548.089\n",
      "INFO:tensorflow:loss = 8.849747, step = 5801 (0.183 sec)\n",
      "INFO:tensorflow:global_step/sec: 679.011\n",
      "INFO:tensorflow:loss = 8.870253, step = 5901 (0.147 sec)\n",
      "INFO:tensorflow:global_step/sec: 745.145\n",
      "INFO:tensorflow:loss = 16.774693, step = 6001 (0.134 sec)\n",
      "INFO:tensorflow:global_step/sec: 890.711\n",
      "INFO:tensorflow:loss = 17.49034, step = 6101 (0.114 sec)\n",
      "INFO:tensorflow:global_step/sec: 834.501\n",
      "INFO:tensorflow:loss = 19.139002, step = 6201 (0.119 sec)\n",
      "INFO:tensorflow:global_step/sec: 961.963\n"
     ]
    },
    {
     "name": "stdout",
     "output_type": "stream",
     "text": [
      "INFO:tensorflow:loss = 13.138453, step = 6301 (0.104 sec)\n",
      "INFO:tensorflow:global_step/sec: 832.902\n",
      "INFO:tensorflow:loss = 15.352114, step = 6401 (0.120 sec)\n",
      "INFO:tensorflow:global_step/sec: 984.022\n",
      "INFO:tensorflow:loss = 8.402961, step = 6501 (0.101 sec)\n",
      "INFO:tensorflow:global_step/sec: 982.231\n",
      "INFO:tensorflow:loss = 9.876194, step = 6601 (0.102 sec)\n",
      "INFO:tensorflow:global_step/sec: 1020.02\n",
      "INFO:tensorflow:loss = 20.70549, step = 6701 (0.098 sec)\n",
      "INFO:tensorflow:global_step/sec: 1028.71\n",
      "INFO:tensorflow:loss = 153.62971, step = 6801 (0.098 sec)\n",
      "INFO:tensorflow:global_step/sec: 986.243\n",
      "INFO:tensorflow:loss = 36.732124, step = 6901 (0.101 sec)\n",
      "INFO:tensorflow:global_step/sec: 1031.76\n",
      "INFO:tensorflow:loss = 11.267868, step = 7001 (0.096 sec)\n",
      "INFO:tensorflow:global_step/sec: 998.572\n",
      "INFO:tensorflow:loss = 22.064941, step = 7101 (0.101 sec)\n",
      "INFO:tensorflow:global_step/sec: 1025.29\n",
      "INFO:tensorflow:loss = 11.695526, step = 7201 (0.097 sec)\n",
      "INFO:tensorflow:global_step/sec: 1079.84\n",
      "INFO:tensorflow:loss = 9.683277, step = 7301 (0.094 sec)\n",
      "INFO:tensorflow:global_step/sec: 1047.94\n",
      "INFO:tensorflow:loss = 24.439617, step = 7401 (0.095 sec)\n",
      "INFO:tensorflow:global_step/sec: 1098.01\n",
      "INFO:tensorflow:loss = 11.638348, step = 7501 (0.091 sec)\n",
      "INFO:tensorflow:global_step/sec: 1019.84\n",
      "INFO:tensorflow:loss = 8.52163, step = 7601 (0.098 sec)\n",
      "INFO:tensorflow:global_step/sec: 924.599\n",
      "INFO:tensorflow:loss = 16.652866, step = 7701 (0.108 sec)\n",
      "INFO:tensorflow:global_step/sec: 823.798\n",
      "INFO:tensorflow:loss = 15.146114, step = 7801 (0.123 sec)\n",
      "INFO:tensorflow:global_step/sec: 986.572\n",
      "INFO:tensorflow:loss = 12.131869, step = 7901 (0.100 sec)\n",
      "INFO:tensorflow:global_step/sec: 932.472\n",
      "INFO:tensorflow:loss = 9.766513, step = 8001 (0.107 sec)\n",
      "INFO:tensorflow:global_step/sec: 849.558\n",
      "INFO:tensorflow:loss = 7.500616, step = 8101 (0.117 sec)\n",
      "INFO:tensorflow:global_step/sec: 878.21\n",
      "INFO:tensorflow:loss = 10.937906, step = 8201 (0.116 sec)\n",
      "INFO:tensorflow:global_step/sec: 790.503\n",
      "INFO:tensorflow:loss = 19.627312, step = 8301 (0.126 sec)\n",
      "INFO:tensorflow:global_step/sec: 836.916\n",
      "INFO:tensorflow:loss = 9.516294, step = 8401 (0.119 sec)\n",
      "INFO:tensorflow:global_step/sec: 683.945\n",
      "INFO:tensorflow:loss = 4.64547, step = 8501 (0.147 sec)\n",
      "INFO:tensorflow:global_step/sec: 623.231\n",
      "INFO:tensorflow:loss = 6.3855724, step = 8601 (0.161 sec)\n",
      "INFO:tensorflow:global_step/sec: 451.659\n",
      "INFO:tensorflow:loss = 20.866009, step = 8701 (0.224 sec)\n",
      "INFO:tensorflow:global_step/sec: 393.515\n",
      "INFO:tensorflow:loss = 13.338492, step = 8801 (0.253 sec)\n",
      "INFO:tensorflow:global_step/sec: 940.779\n",
      "INFO:tensorflow:loss = 22.4707, step = 8901 (0.103 sec)\n",
      "INFO:tensorflow:global_step/sec: 1131.53\n",
      "INFO:tensorflow:loss = 11.492618, step = 9001 (0.088 sec)\n",
      "INFO:tensorflow:global_step/sec: 526.893\n",
      "INFO:tensorflow:loss = 6.133339, step = 9101 (0.190 sec)\n",
      "INFO:tensorflow:global_step/sec: 503.365\n",
      "INFO:tensorflow:loss = 8.243822, step = 9201 (0.202 sec)\n",
      "INFO:tensorflow:global_step/sec: 377.895\n",
      "INFO:tensorflow:loss = 12.146692, step = 9301 (0.263 sec)\n",
      "INFO:tensorflow:global_step/sec: 752.543\n",
      "INFO:tensorflow:loss = 12.428893, step = 9401 (0.131 sec)\n",
      "INFO:tensorflow:global_step/sec: 792.582\n",
      "INFO:tensorflow:loss = 21.861687, step = 9501 (0.127 sec)\n",
      "INFO:tensorflow:global_step/sec: 379.394\n",
      "INFO:tensorflow:loss = 5.7603254, step = 9601 (0.269 sec)\n",
      "INFO:tensorflow:global_step/sec: 622.39\n",
      "INFO:tensorflow:loss = 52.313503, step = 9701 (0.155 sec)\n",
      "INFO:tensorflow:global_step/sec: 742.798\n",
      "INFO:tensorflow:loss = 13.384104, step = 9801 (0.134 sec)\n",
      "INFO:tensorflow:global_step/sec: 668.36\n",
      "INFO:tensorflow:loss = 12.985405, step = 9901 (0.150 sec)\n",
      "INFO:tensorflow:Saving checkpoints for 10000 into /var/folders/kv/py6frwmj5kx29vvvw4m51td40000gn/T/tmpt6i_3tps/model.ckpt.\n",
      "INFO:tensorflow:Loss for final step: 8.266293.\n"
     ]
    },
    {
     "data": {
      "text/plain": [
       "<tensorflow_estimator.python.estimator.canned.linear.LinearRegressor at 0x1a2a714668>"
      ]
     },
     "execution_count": 22,
     "metadata": {},
     "output_type": "execute_result"
    }
   ],
   "source": [
    "regressor.train(input_fn = funcao_treinamento, steps = 10000)"
   ]
  },
  {
   "cell_type": "code",
   "execution_count": 23,
   "metadata": {},
   "outputs": [
    {
     "name": "stdout",
     "output_type": "stream",
     "text": [
      "INFO:tensorflow:Calling model_fn.\n",
      "INFO:tensorflow:Done calling model_fn.\n",
      "INFO:tensorflow:Starting evaluation at 2019-06-05T00:44:00Z\n",
      "INFO:tensorflow:Graph was finalized.\n",
      "WARNING:tensorflow:From /Users/LuizFelipe/.local/lib/python3.7/site-packages/tensorflow/python/training/saver.py:1266: checkpoint_exists (from tensorflow.python.training.checkpoint_management) is deprecated and will be removed in a future version.\n",
      "Instructions for updating:\n",
      "Use standard file APIs to check for files with this prefix.\n",
      "INFO:tensorflow:Restoring parameters from /var/folders/kv/py6frwmj5kx29vvvw4m51td40000gn/T/tmpt6i_3tps/model.ckpt-10000\n",
      "INFO:tensorflow:Running local_init_op.\n",
      "INFO:tensorflow:Done running local_init_op.\n",
      "INFO:tensorflow:Evaluation [1000/10000]\n",
      "INFO:tensorflow:Evaluation [2000/10000]\n",
      "INFO:tensorflow:Evaluation [3000/10000]\n",
      "INFO:tensorflow:Evaluation [4000/10000]\n",
      "INFO:tensorflow:Evaluation [5000/10000]\n",
      "INFO:tensorflow:Evaluation [6000/10000]\n",
      "INFO:tensorflow:Evaluation [7000/10000]\n",
      "INFO:tensorflow:Evaluation [8000/10000]\n",
      "INFO:tensorflow:Evaluation [9000/10000]\n",
      "INFO:tensorflow:Evaluation [10000/10000]\n",
      "INFO:tensorflow:Finished evaluation at 2019-06-05-00:44:09\n",
      "INFO:tensorflow:Saving dict for global step 10000: average_loss = 0.5165764, global_step = 10000, label/mean = 0.000306841, loss = 16.530445, prediction/mean = -0.008355469\n",
      "INFO:tensorflow:Saving 'checkpoint_path' summary for global step 10000: /var/folders/kv/py6frwmj5kx29vvvw4m51td40000gn/T/tmpt6i_3tps/model.ckpt-10000\n"
     ]
    }
   ],
   "source": [
    "metricas_treinamento = regressor.evaluate(input_fn = funcao_treinamento, steps = 10000)"
   ]
  },
  {
   "cell_type": "code",
   "execution_count": 24,
   "metadata": {},
   "outputs": [
    {
     "name": "stdout",
     "output_type": "stream",
     "text": [
      "INFO:tensorflow:Calling model_fn.\n",
      "INFO:tensorflow:Done calling model_fn.\n",
      "INFO:tensorflow:Starting evaluation at 2019-06-05T00:45:18Z\n",
      "INFO:tensorflow:Graph was finalized.\n",
      "INFO:tensorflow:Restoring parameters from /var/folders/kv/py6frwmj5kx29vvvw4m51td40000gn/T/tmpt6i_3tps/model.ckpt-10000\n",
      "INFO:tensorflow:Running local_init_op.\n",
      "INFO:tensorflow:Done running local_init_op.\n",
      "INFO:tensorflow:Evaluation [1000/10000]\n",
      "INFO:tensorflow:Evaluation [2000/10000]\n",
      "INFO:tensorflow:Evaluation [3000/10000]\n",
      "INFO:tensorflow:Evaluation [4000/10000]\n",
      "INFO:tensorflow:Evaluation [5000/10000]\n",
      "INFO:tensorflow:Evaluation [6000/10000]\n",
      "INFO:tensorflow:Evaluation [7000/10000]\n",
      "INFO:tensorflow:Evaluation [8000/10000]\n",
      "INFO:tensorflow:Evaluation [9000/10000]\n",
      "INFO:tensorflow:Evaluation [10000/10000]\n",
      "INFO:tensorflow:Finished evaluation at 2019-06-05-00:45:27\n",
      "INFO:tensorflow:Saving dict for global step 10000: average_loss = 0.48541704, global_step = 10000, label/mean = -0.00040803742, loss = 15.533345, prediction/mean = -0.016819188\n",
      "INFO:tensorflow:Saving 'checkpoint_path' summary for global step 10000: /var/folders/kv/py6frwmj5kx29vvvw4m51td40000gn/T/tmpt6i_3tps/model.ckpt-10000\n"
     ]
    }
   ],
   "source": [
    "metricas_test = regressor.evaluate(input_fn = funcao_teste, steps = 10000)"
   ]
  },
  {
   "cell_type": "code",
   "execution_count": 27,
   "metadata": {},
   "outputs": [
    {
     "data": {
      "text/plain": [
       "{'average_loss': 0.5165764,\n",
       " 'label/mean': 0.000306841,\n",
       " 'loss': 16.530445,\n",
       " 'prediction/mean': -0.008355469,\n",
       " 'global_step': 10000}"
      ]
     },
     "execution_count": 27,
     "metadata": {},
     "output_type": "execute_result"
    }
   ],
   "source": [
    "metricas_treinamento"
   ]
  },
  {
   "cell_type": "code",
   "execution_count": 28,
   "metadata": {},
   "outputs": [
    {
     "data": {
      "text/plain": [
       "{'average_loss': 0.48541704,\n",
       " 'label/mean': -0.00040803742,\n",
       " 'loss': 15.533345,\n",
       " 'prediction/mean': -0.016819188,\n",
       " 'global_step': 10000}"
      ]
     },
     "execution_count": 28,
     "metadata": {},
     "output_type": "execute_result"
    }
   ],
   "source": [
    "metricas_test"
   ]
  },
  {
   "cell_type": "code",
   "execution_count": 29,
   "metadata": {},
   "outputs": [
    {
     "data": {
      "text/plain": [
       "array([[ 800],\n",
       "       [ 900],\n",
       "       [1000]])"
      ]
     },
     "execution_count": 29,
     "metadata": {},
     "output_type": "execute_result"
    }
   ],
   "source": [
    "import numpy as np\n",
    "novas_casas = np.array([[800], [900], [1000]])\n",
    "novas_casas"
   ]
  },
  {
   "cell_type": "code",
   "execution_count": 30,
   "metadata": {},
   "outputs": [
    {
     "name": "stderr",
     "output_type": "stream",
     "text": [
      "/anaconda3/lib/python3.7/site-packages/sklearn/utils/validation.py:595: DataConversionWarning: Data with input dtype int64 was converted to float64 by StandardScaler.\n",
      "  warnings.warn(msg, DataConversionWarning)\n"
     ]
    },
    {
     "data": {
      "text/plain": [
       "array([[-1.39358923],\n",
       "       [-1.28470655],\n",
       "       [-1.17582386]])"
      ]
     },
     "execution_count": 30,
     "metadata": {},
     "output_type": "execute_result"
    }
   ],
   "source": [
    "novas_casas = scaler_x.transform(novas_casas)\n",
    "novas_casas"
   ]
  },
  {
   "cell_type": "code",
   "execution_count": 32,
   "metadata": {},
   "outputs": [],
   "source": [
    "funcao_previsao = tf.estimator.inputs.numpy_input_fn({'x': novas_casas}, shuffle = False)"
   ]
  },
  {
   "cell_type": "code",
   "execution_count": 33,
   "metadata": {},
   "outputs": [],
   "source": [
    "previsoes = regressor.predict(input_fn = funcao_previsao)"
   ]
  },
  {
   "cell_type": "code",
   "execution_count": 34,
   "metadata": {},
   "outputs": [
    {
     "data": {
      "text/plain": [
       "<generator object EstimatorV2.predict at 0x1a2e7ba570>"
      ]
     },
     "execution_count": 34,
     "metadata": {},
     "output_type": "execute_result"
    }
   ],
   "source": [
    "previsoes"
   ]
  },
  {
   "cell_type": "code",
   "execution_count": 35,
   "metadata": {},
   "outputs": [
    {
     "name": "stdout",
     "output_type": "stream",
     "text": [
      "INFO:tensorflow:Calling model_fn.\n",
      "INFO:tensorflow:Done calling model_fn.\n",
      "INFO:tensorflow:Graph was finalized.\n",
      "INFO:tensorflow:Restoring parameters from /var/folders/kv/py6frwmj5kx29vvvw4m51td40000gn/T/tmpt6i_3tps/model.ckpt-10000\n",
      "INFO:tensorflow:Running local_init_op.\n",
      "INFO:tensorflow:Done running local_init_op.\n"
     ]
    },
    {
     "data": {
      "text/plain": [
       "[{'predictions': array([-0.97891164], dtype=float32)},\n",
       " {'predictions': array([-0.9032825], dtype=float32)},\n",
       " {'predictions': array([-0.8276533], dtype=float32)}]"
      ]
     },
     "execution_count": 35,
     "metadata": {},
     "output_type": "execute_result"
    }
   ],
   "source": [
    "list(previsoes)"
   ]
  },
  {
   "cell_type": "code",
   "execution_count": 37,
   "metadata": {},
   "outputs": [
    {
     "name": "stdout",
     "output_type": "stream",
     "text": [
      "INFO:tensorflow:Calling model_fn.\n",
      "INFO:tensorflow:Done calling model_fn.\n",
      "INFO:tensorflow:Graph was finalized.\n",
      "INFO:tensorflow:Restoring parameters from /var/folders/kv/py6frwmj5kx29vvvw4m51td40000gn/T/tmpt6i_3tps/model.ckpt-10000\n",
      "INFO:tensorflow:Running local_init_op.\n",
      "INFO:tensorflow:Done running local_init_op.\n",
      "[180711.36]\n",
      "[208476.23]\n",
      "[236241.14]\n"
     ]
    }
   ],
   "source": [
    "for p in regressor.predict(input_fn = funcao_previsao):\n",
    "    #print(p['predictions'])\n",
    "    print(scaler_y.inverse_transform(p['predictions']))"
   ]
  },
  {
   "cell_type": "code",
   "execution_count": null,
   "metadata": {},
   "outputs": [],
   "source": []
  }
 ],
 "metadata": {
  "kernelspec": {
   "display_name": "Python 3",
   "language": "python",
   "name": "python3"
  },
  "language_info": {
   "codemirror_mode": {
    "name": "ipython",
    "version": 3
   },
   "file_extension": ".py",
   "mimetype": "text/x-python",
   "name": "python",
   "nbconvert_exporter": "python",
   "pygments_lexer": "ipython3",
   "version": "3.7.2"
  }
 },
 "nbformat": 4,
 "nbformat_minor": 2
}
